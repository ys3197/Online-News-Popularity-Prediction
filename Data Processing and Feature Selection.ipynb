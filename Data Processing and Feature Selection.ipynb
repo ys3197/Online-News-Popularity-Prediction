{
 "cells": [
  {
   "cell_type": "markdown",
   "metadata": {},
   "source": [
    "Data Referece:\n",
    "\n",
    "UCI Machine Learning Repository. \"*Online News Popularity Data Set*\". [online] Available at: http://archive.ics.uci.edu/ml/datasets/Online+News+Popularity\n",
    "\n",
    "K. Fernandes, P. Vinagre and P. Cortez. A Proactive Intelligent Decision Support System for Predicting the Popularity of Online News. Proceedings of the 17th EPIA 2015 - Portuguese Conference on Artificial Intelligence, September, Coimbra, Portugal.\n",
    "\n"
   ]
  },
  {
   "cell_type": "code",
   "execution_count": 1,
   "metadata": {},
   "outputs": [],
   "source": [
    "import numpy as np\n",
    "import pandas as pd\n",
    "import matplotlib.pyplot as plt\n",
    "from sklearn.feature_selection import RFE\n",
    "from sklearn.tree import DecisionTreeClassifier\n",
    "from sklearn.metrics import roc_auc_score\n",
    "%matplotlib inline\n",
    "\n",
    "init_df=pd.read_csv('OnlineNewsPopularity.csv',header=0)"
   ]
  },
  {
   "cell_type": "code",
   "execution_count": 2,
   "metadata": {},
   "outputs": [],
   "source": [
    "# Strip the space in the column name\n",
    "\n",
    "new_col={}\n",
    "for col in init_df.columns.values:\n",
    "    newcol=col.lstrip()\n",
    "    new_col[col]=newcol\n",
    "mod_df=init_df.rename(columns=new_col)"
   ]
  },
  {
   "cell_type": "code",
   "execution_count": 3,
   "metadata": {},
   "outputs": [],
   "source": [
    "#drop the url and timedelta columns\n",
    "mod_df=mod_df.drop(['url','timedelta'],axis=1)"
   ]
  },
  {
   "cell_type": "code",
   "execution_count": 4,
   "metadata": {},
   "outputs": [
    {
     "data": {
      "text/plain": [
       "n_tokens_title                   False\n",
       "n_tokens_content                 False\n",
       "n_unique_tokens                  False\n",
       "n_non_stop_words                 False\n",
       "n_non_stop_unique_tokens         False\n",
       "num_hrefs                        False\n",
       "num_self_hrefs                   False\n",
       "num_imgs                         False\n",
       "num_videos                       False\n",
       "average_token_length             False\n",
       "num_keywords                     False\n",
       "data_channel_is_lifestyle        False\n",
       "data_channel_is_entertainment    False\n",
       "data_channel_is_bus              False\n",
       "data_channel_is_socmed           False\n",
       "data_channel_is_tech             False\n",
       "data_channel_is_world            False\n",
       "kw_min_min                       False\n",
       "kw_max_min                       False\n",
       "kw_avg_min                       False\n",
       "kw_min_max                       False\n",
       "kw_max_max                       False\n",
       "kw_avg_max                       False\n",
       "kw_min_avg                       False\n",
       "kw_max_avg                       False\n",
       "kw_avg_avg                       False\n",
       "self_reference_min_shares        False\n",
       "self_reference_max_shares        False\n",
       "self_reference_avg_sharess       False\n",
       "weekday_is_monday                False\n",
       "weekday_is_tuesday               False\n",
       "weekday_is_wednesday             False\n",
       "weekday_is_thursday              False\n",
       "weekday_is_friday                False\n",
       "weekday_is_saturday              False\n",
       "weekday_is_sunday                False\n",
       "is_weekend                       False\n",
       "LDA_00                           False\n",
       "LDA_01                           False\n",
       "LDA_02                           False\n",
       "LDA_03                           False\n",
       "LDA_04                           False\n",
       "global_subjectivity              False\n",
       "global_sentiment_polarity        False\n",
       "global_rate_positive_words       False\n",
       "global_rate_negative_words       False\n",
       "rate_positive_words              False\n",
       "rate_negative_words              False\n",
       "avg_positive_polarity            False\n",
       "min_positive_polarity            False\n",
       "max_positive_polarity            False\n",
       "avg_negative_polarity            False\n",
       "min_negative_polarity            False\n",
       "max_negative_polarity            False\n",
       "title_subjectivity               False\n",
       "title_sentiment_polarity         False\n",
       "abs_title_subjectivity           False\n",
       "abs_title_sentiment_polarity     False\n",
       "shares                           False\n",
       "dtype: bool"
      ]
     },
     "execution_count": 4,
     "metadata": {},
     "output_type": "execute_result"
    }
   ],
   "source": [
    "# Check missing values\n",
    "mod_df.isnull().any()"
   ]
  },
  {
   "cell_type": "code",
   "execution_count": 18,
   "metadata": {},
   "outputs": [
    {
     "data": {
      "text/plain": [
       "Text(0.5,1,'Shares Distribution')"
      ]
     },
     "execution_count": 18,
     "metadata": {},
     "output_type": "execute_result"
    },
    {
     "data": {
      "image/png": "[encoded data removed]",
      "text/plain": [
       "<Figure size 432x288 with 1 Axes>"
      ]
     },
     "metadata": {},
     "output_type": "display_data"
    }
   ],
   "source": [
    "# Plot the target variables\n",
    "\n",
    "plt.hist(mod_df['shares'],bins=1000,density=True)\n",
    "plt.xlim(0,50000)\n",
    "plt.title('Shares Distribution')"
   ]
  },
  {
   "cell_type": "code",
   "execution_count": 6,
   "metadata": {},
   "outputs": [],
   "source": [
    "# Convert shares to binary target variables\n",
    "\n",
    "seperate_line=mod_df['shares'].quantile(q=0.75)\n",
    "\n",
    "convert_df=mod_df.copy()\n",
    "convert_df['shares']=convert_df['shares'].where(convert_df['shares']<seperate_line,1)\n",
    "convert_df['shares']=convert_df['shares'].where(convert_df['shares']==1,0)"
   ]
  },
  {
   "cell_type": "code",
   "execution_count": 192,
   "metadata": {},
   "outputs": [],
   "source": [
    "#split data randomly into 8:2 for training data and test data\n",
    "\n",
    "convert_df_random=convert_df.reindex(np.random.permutation(convert_df.index))\n",
    "convert_df_split=int(np.floor(convert_df.shape[0]*0.8))\n",
    "train_data=convert_df_random[:convert_df_split].reset_index(drop=True)\n",
    "validation_data=convert_df_random[convert_df_split:].reset_index(drop=True)"
   ]
  },
  {
   "cell_type": "code",
   "execution_count": 193,
   "metadata": {},
   "outputs": [],
   "source": [
    "# Build the decision tree classifier function\n",
    "def DT(d,l):\n",
    "    dt=DecisionTreeClassifier(criterion='gini',max_depth=d,min_samples_leaf=l)\n",
    "    dt.fit(train_data.drop('shares',axis=1),train_data['shares'])\n",
    "    \n",
    "    #auc score\n",
    "    dt_auc=roc_auc_score(validation_data['shares'],dt.predict_proba(validation_data.drop('shares',axis=1))[:,1])\n",
    "    \n",
    "    return dt_auc"
   ]
  },
  {
   "cell_type": "code",
   "execution_count": 194,
   "metadata": {},
   "outputs": [],
   "source": [
    "# Convert all auc_score to a dataframe\n",
    "\n",
    "dict_dt={'max_depth':[],'min_samples_leaf':[],'auc_score':[]}\n",
    "\n",
    "d_list=[100,150,200,300,500,800]\n",
    "l_list=[10,50,100,300,500,1000]\n",
    "\n",
    "for d in d_list:\n",
    "    for l in l_list:\n",
    "        auc_score=DT(d,l)\n",
    "            \n",
    "        dict_dt['max_depth'].append(d)\n",
    "        dict_dt['min_samples_leaf'].append(l)\n",
    "        dict_dt['auc_score'].append(auc_score)\n",
    "\n",
    "df_dt=pd.DataFrame(dict_dt)"
   ]
  },
  {
   "cell_type": "code",
   "execution_count": 195,
   "metadata": {},
   "outputs": [],
   "source": [
    "# Find the best hyperparameter for the best auc\n",
    "max_depth1=df_dt[df_dt['auc_score']==df_dt['auc_score'].max()]['max_depth'].iloc[0]\n",
    "min_samples_leaf1=df_dt[df_dt['auc_score']==df_dt['auc_score'].max()]['min_samples_leaf'].iloc[0]"
   ]
  },
  {
   "cell_type": "code",
   "execution_count": 196,
   "metadata": {},
   "outputs": [],
   "source": [
    "# Use recursive feature elimination to transform the data\n",
    "estimator=DecisionTreeClassifier(criterion='gini',max_depth=max_depth1,min_samples_leaf=min_samples_leaf1)\n",
    "selector=RFE(estimator, 12, step=1)\n",
    "truncate_array=selector.fit_transform(convert_df.drop('shares',axis=1),convert_df['shares'])"
   ]
  },
  {
   "cell_type": "code",
   "execution_count": 197,
   "metadata": {},
   "outputs": [],
   "source": [
    "column_of_interest=np.where(selector.get_support()==True)[0].tolist()\n",
    "truncate_df=convert_df.iloc[:,column_of_interest].merge(convert_df['shares'].to_frame(),left_index=True,right_index=True)"
   ]
  },
  {
   "cell_type": "code",
   "execution_count": 198,
   "metadata": {},
   "outputs": [],
   "source": [
    "# Split data to test data for 10% of total data and keep the original proportion \n",
    "\n",
    "nonpopular_total=truncate_df[truncate_df['shares']==0]\n",
    "nonpopular_total_random=nonpopular_total.reindex(np.random.permutation(nonpopular_total.index))\n",
    "\n",
    "nonpopular_split=int(np.floor(nonpopular_total.shape[0]*0.9))\n",
    "\n",
    "nonpopular_left=nonpopular_total_random[:nonpopular_split]\n",
    "nonpopular_test=nonpopular_total_random[nonpopular_split:]\n",
    "\n",
    "popular_total=truncate_df[truncate_df['shares']==1]\n",
    "popular_total_random=popular_total.reindex(np.random.permutation(popular_total.index))\n",
    "\n",
    "popular_split=int(np.floor(popular_total.shape[0]*0.9))\n",
    "\n",
    "popular_left=popular_total_random[:popular_split]\n",
    "popular_test=popular_total_random[popular_split:]\n",
    "\n",
    "test_data=pd.concat([nonpopular_test,popular_test],axis=0).reset_index(drop=True)\n",
    "left_data=pd.concat([nonpopular_left,popular_left],axis=0).reset_index(drop=True)\n",
    "\n",
    "#split the left_data to training and validation based on 8:2\n",
    "left_data_random=left_data.reindex(np.random.permutation(left_data.index))\n",
    "left_data_split=int(np.floor(left_data.shape[0]*0.8))\n",
    "train_data=left_data_random[:left_data_split].reset_index(drop=True)\n",
    "validation_data=left_data_random[left_data_split:].reset_index(drop=True)\n",
    "\n",
    "#downsample trainig_data and train_validation_data\n",
    "def downsample(data):\n",
    "    keep_data=data[data['shares']==1]\n",
    "    down_size=keep_data.shape[0]\n",
    "    down_data=data[data['shares']==0]\n",
    "    downed_data=down_data.reindex(np.random.permutation(down_data.index))[:down_size]\n",
    "    final_data=pd.concat([keep_data,downed_data],axis=0).reset_index(drop=True)\n",
    "    return final_data\n",
    "\n",
    "downed_left_data=downsample(left_data)\n",
    "downed_train_data=downsample(train_data)\n",
    "\n",
    "    \n",
    "downed_train_data.to_csv('train_data.csv')\n",
    "validation_data.to_csv('validation_data.csv')\n",
    "downed_left_data.to_csv('train_validation_data.csv')\n",
    "test_data.to_csv('test_data.csv')"
   ]
  }
 ],
 "metadata": {
  "kernelspec": {
   "display_name": "Python 3",
   "language": "python",
   "name": "python3"
  },
  "language_info": {
   "codemirror_mode": {
    "name": "ipython",
    "version": 3
   },
   "file_extension": ".py",
   "mimetype": "text/x-python",
   "name": "python",
   "nbconvert_exporter": "python",
   "pygments_lexer": "ipython3",
   "version": "3.6.5"
  }
 },
 "nbformat": 4,
 "nbformat_minor": 2
}
